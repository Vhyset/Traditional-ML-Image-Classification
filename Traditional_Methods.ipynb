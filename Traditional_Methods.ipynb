{
 "cells": [
  {
   "cell_type": "code",
   "execution_count": 56,
   "metadata": {},
   "outputs": [],
   "source": [
    "# IMPORTANT: \n",
    "# Download the dataset from the following link:\n",
    "# https://www.kaggle.com/datasets/gpiosenka/cards-image-datasetclassification\n",
    "\n",
    "\n",
    "# Import Libraries\n",
    "\n",
    "import numpy as np\n",
    "import pandas as pd\n",
    "import seaborn as sns\n",
    "import matplotlib.pyplot as plt\n",
    "from PIL import Image\n",
    "%matplotlib inline\n",
    "from sklearn.neighbors import KNeighborsClassifier\n",
    "from sklearn.metrics import confusion_matrix,classification_report\n",
    "from sklearn.tree import DecisionTreeClassifier\n",
    "from sklearn.ensemble import RandomForestClassifier"
   ]
  },
  {
   "cell_type": "code",
   "execution_count": 57,
   "metadata": {},
   "outputs": [],
   "source": [
    "# Read and process data\n",
    "\n",
    "cards = pd.read_csv('cards.csv')\n",
    "\n",
    "img = Image.open(cards.filepaths[0])\n",
    "# Deep NN Technique\n",
    "img = img.resize((200,200))\n",
    "cardarr = np.asarray(img)\n",
    "cardarr.shape\n",
    "\n",
    "def img_process(path):\n",
    "    img = Image.open(path).resize((100,100)).convert('L')\n",
    "    cardlist = np.asarray(img).flatten().tolist()    \n",
    "#     # Deep NN Technique\n",
    "#     img = Image.open(path).resize((20,20))\n",
    "#     cardlist = np.asarray(img)\n",
    "    return cardlist\n",
    "\n",
    "cardd = cards['filepaths'].apply(img_process)\n",
    "ft = pd.DataFrame(cardd.tolist())\n",
    "all_data = pd.concat([cards,ft],axis=1)\n",
    "all_data.drop(['filepaths','labels','class index'], inplace=True, axis=1)"
   ]
  },
  {
   "cell_type": "code",
   "execution_count": 58,
   "metadata": {},
   "outputs": [
    {
     "name": "stderr",
     "output_type": "stream",
     "text": [
      "C:\\Users\\alexb\\AppData\\Local\\Temp\\ipykernel_25312\\3128637490.py:8: SettingWithCopyWarning: \n",
      "A value is trying to be set on a copy of a slice from a DataFrame\n",
      "\n",
      "See the caveats in the documentation: https://pandas.pydata.org/pandas-docs/stable/user_guide/indexing.html#returning-a-view-versus-a-copy\n",
      "  train_data.drop(['data set'], axis=1, inplace=True)\n",
      "C:\\Users\\alexb\\AppData\\Local\\Temp\\ipykernel_25312\\3128637490.py:9: SettingWithCopyWarning: \n",
      "A value is trying to be set on a copy of a slice from a DataFrame\n",
      "\n",
      "See the caveats in the documentation: https://pandas.pydata.org/pandas-docs/stable/user_guide/indexing.html#returning-a-view-versus-a-copy\n",
      "  test_data.drop(['data set'], axis=1, inplace=True)\n",
      "C:\\Users\\alexb\\AppData\\Local\\Temp\\ipykernel_25312\\3128637490.py:10: SettingWithCopyWarning: \n",
      "A value is trying to be set on a copy of a slice from a DataFrame\n",
      "\n",
      "See the caveats in the documentation: https://pandas.pydata.org/pandas-docs/stable/user_guide/indexing.html#returning-a-view-versus-a-copy\n",
      "  valid_data.drop(['data set'], axis=1, inplace=True)\n"
     ]
    }
   ],
   "source": [
    "# Split data into training and testing\n",
    "# Split label from data\n",
    "\n",
    "train_data = all_data[all_data['data set'] == 'train']\n",
    "test_data = all_data[all_data['data set'] == 'test']\n",
    "valid_data = all_data[all_data['data set'] == 'valid']\n",
    "\n",
    "train_data.drop(['data set'], axis=1, inplace=True)\n",
    "test_data.drop(['data set'], axis=1, inplace=True)\n",
    "valid_data.drop(['data set'], axis=1, inplace=True)\n",
    "\n",
    "y_train = train_data['card type']\n",
    "X_train = train_data.drop(['card type'],axis=1)\n",
    "\n",
    "y_test = test_data['card type']\n",
    "X_test = test_data.drop(['card type'],axis=1)\n",
    "\n",
    "y_valid = valid_data['card type']\n",
    "X_valid = valid_data.drop(['card type'],axis=1)"
   ]
  },
  {
   "cell_type": "code",
   "execution_count": 59,
   "metadata": {},
   "outputs": [
    {
     "name": "stdout",
     "output_type": "stream",
     "text": [
      "[[20  0  0  0  0  0  0  0  0  0  0  0  0  0]\n",
      " [ 0 10  2  1  0  0  1  0  4  1  1  0  0  0]\n",
      " [ 2  0 16  1  0  0  1  0  0  0  0  0  0  0]\n",
      " [ 0  2  2 15  0  0  0  0  0  1  0  0  0  0]\n",
      " [ 4  1  0  0 13  2  0  0  0  0  0  0  0  0]\n",
      " [ 4  0  0  0  4 10  0  2  0  0  0  0  0  0]\n",
      " [ 1  0  1  0  1  1 11  0  1  0  3  0  1  0]\n",
      " [ 0  0  0  0  2  0  0 15  0  1  0  0  1  1]\n",
      " [ 1  2  1  2  0  0  1  0 12  1  0  0  0  0]\n",
      " [ 3  2  2  1  0  0  0  0  2 10  0  0  0  0]\n",
      " [ 1  0  1  1  0  0  3  1  1  0 12  0  0  0]\n",
      " [ 4  0  0  0  0  0  0  0  0  0  0 15  1  0]\n",
      " [ 5  1  0  0  0  0  0  0  1  0  0  0 13  0]\n",
      " [ 4  0  1  0  0  0  0  0  0  0  0  0  0  0]]\n",
      "              precision    recall  f1-score   support\n",
      "\n",
      "         ace       0.41      1.00      0.58        20\n",
      "       eight       0.56      0.50      0.53        20\n",
      "        five       0.62      0.80      0.70        20\n",
      "        four       0.71      0.75      0.73        20\n",
      "        jack       0.65      0.65      0.65        20\n",
      "        king       0.77      0.50      0.61        20\n",
      "        nine       0.65      0.55      0.59        20\n",
      "       queen       0.83      0.75      0.79        20\n",
      "       seven       0.57      0.60      0.59        20\n",
      "         six       0.71      0.50      0.59        20\n",
      "         ten       0.75      0.60      0.67        20\n",
      "       three       1.00      0.75      0.86        20\n",
      "         two       0.81      0.65      0.72        20\n",
      "         xxx       0.00      0.00      0.00         5\n",
      "\n",
      "    accuracy                           0.65       265\n",
      "   macro avg       0.65      0.61      0.61       265\n",
      "weighted avg       0.68      0.65      0.65       265\n",
      "\n"
     ]
    }
   ],
   "source": [
    "# Try K Nearest Neighbors classifier with 15 neighbors\n",
    "\n",
    "knn = KNeighborsClassifier(n_neighbors=15)\n",
    "knn.fit(X_train,y_train)\n",
    "pred = knn.predict(X_test)\n",
    "print(confusion_matrix(y_test, pred))\n",
    "print(classification_report(y_test, pred))"
   ]
  },
  {
   "cell_type": "code",
   "execution_count": 60,
   "metadata": {},
   "outputs": [
    {
     "data": {
      "text/plain": [
       "Text(0, 0.5, 'Error Rate')"
      ]
     },
     "execution_count": 60,
     "metadata": {},
     "output_type": "execute_result"
    },
    {
     "data": {
      "image/png": "[encoded data removed]",
      "text/plain": [
       "<Figure size 720x432 with 1 Axes>"
      ]
     },
     "metadata": {
      "needs_background": "light"
     },
     "output_type": "display_data"
    }
   ],
   "source": [
    "# Try K Nearest Neighbors classifier with neighbors between 1 and 100\n",
    "# Look to see if it approaches a minimum\n",
    "\n",
    "error_rate = []\n",
    "\n",
    "# Will take some time\n",
    "for i in range(1,100):\n",
    "    \n",
    "    knn = KNeighborsClassifier(n_neighbors=i)\n",
    "    knn.fit(X_train,y_train)\n",
    "    pred_i = knn.predict(X_test)\n",
    "    error_rate.append(np.mean(pred_i != y_test))\n",
    "    \n",
    "    \n",
    "plt.figure(figsize=(10,6))\n",
    "plt.plot(range(1,100),error_rate,color='blue', linestyle='dashed', marker='o',\n",
    "         markerfacecolor='red', markersize=10)\n",
    "plt.title('Error Rate vs. K Value')\n",
    "plt.xlabel('K')\n",
    "plt.ylabel('Error Rate')"
   ]
  },
  {
   "cell_type": "code",
   "execution_count": 61,
   "metadata": {},
   "outputs": [
    {
     "name": "stdout",
     "output_type": "stream",
     "text": [
      "Decision Tree Classifier Results:\n",
      "\n",
      "[[14  3  0  0  1  1  0  0  1  0  0  0  0  0]\n",
      " [ 0 12  0  1  1  1  1  0  1  2  0  0  1  0]\n",
      " [ 2  1 12  0  0  0  2  1  0  0  0  0  2  0]\n",
      " [ 0  1  0 15  0  1  1  1  0  1  0  0  0  0]\n",
      " [ 0  0  2  1  5  4  1  3  1  2  0  1  0  0]\n",
      " [ 0  0  0  1  6  5  1  3  0  1  2  0  0  1]\n",
      " [ 0  0  1  0  0  0 11  2  0  1  2  3  0  0]\n",
      " [ 1  1  0  1  3  3  0  6  0  1  1  2  1  0]\n",
      " [ 0  0  0  2  0  0  0  1 13  2  1  0  1  0]\n",
      " [ 0  1  0  1  1  0  0  0  0 15  2  0  0  0]\n",
      " [ 0  0  0  2  0  0  1  0  0  1 12  1  3  0]\n",
      " [ 0  0  2  1  0  0  0  0  1  2  0 12  2  0]\n",
      " [ 2  0  0  1  0  0  1  0  1  1  1  0 13  0]\n",
      " [ 0  0  0  0  1  0  0  0  1  2  0  0  0  1]]\n",
      "              precision    recall  f1-score   support\n",
      "\n",
      "         ace       0.74      0.70      0.72        20\n",
      "       eight       0.63      0.60      0.62        20\n",
      "        five       0.71      0.60      0.65        20\n",
      "        four       0.58      0.75      0.65        20\n",
      "        jack       0.28      0.25      0.26        20\n",
      "        king       0.33      0.25      0.29        20\n",
      "        nine       0.58      0.55      0.56        20\n",
      "       queen       0.35      0.30      0.32        20\n",
      "       seven       0.68      0.65      0.67        20\n",
      "         six       0.48      0.75      0.59        20\n",
      "         ten       0.57      0.60      0.59        20\n",
      "       three       0.63      0.60      0.62        20\n",
      "         two       0.57      0.65      0.60        20\n",
      "         xxx       0.50      0.20      0.29         5\n",
      "\n",
      "    accuracy                           0.55       265\n",
      "   macro avg       0.55      0.53      0.53       265\n",
      "weighted avg       0.55      0.55      0.54       265\n",
      "\n"
     ]
    }
   ],
   "source": [
    "# Try a Decision Tree classifier\n",
    "\n",
    "dtc = DecisionTreeClassifier()\n",
    "dtc.fit(X_train,y_train)\n",
    "pred = dtc.predict(X_test)\n",
    "\n",
    "print('Decision Tree Classifier Results:\\n')\n",
    "print(confusion_matrix(y_test, pred))\n",
    "print(classification_report(y_test, pred))"
   ]
  },
  {
   "cell_type": "code",
   "execution_count": 62,
   "metadata": {},
   "outputs": [
    {
     "name": "stdout",
     "output_type": "stream",
     "text": [
      "Random Forest Classifier Results:\n",
      "\n",
      "[[20  0  0  0  0  0  0  0  0  0  0  0  0  0]\n",
      " [ 0 17  0  1  0  0  0  0  2  0  0  0  0  0]\n",
      " [ 1  1 16  0  0  0  1  0  0  0  0  1  0  0]\n",
      " [ 0  0  1 18  0  0  0  0  0  1  0  0  0  0]\n",
      " [ 1  0  0  0 17  0  0  2  0  0  0  0  0  0]\n",
      " [ 0  0  0  0  6 14  0  0  0  0  0  0  0  0]\n",
      " [ 1  0  0  0  1  0 15  1  0  1  1  0  0  0]\n",
      " [ 0  1  0  0  3  1  0 15  0  0  0  0  0  0]\n",
      " [ 0  0  0  2  0  0  0  0 16  2  0  0  0  0]\n",
      " [ 2  0  0  1  1  0  0  0  0 15  0  0  1  0]\n",
      " [ 0  1  0  2  1  0  1  0  0  0 15  0  0  0]\n",
      " [ 1  0  0  0  0  1  0  0  0  0  0 18  0  0]\n",
      " [ 2  1  0  1  0  0  0  1  0  0  0  1 14  0]\n",
      " [ 2  0  0  0  3  0  0  0  0  0  0  0  0  0]]\n",
      "              precision    recall  f1-score   support\n",
      "\n",
      "         ace       0.67      1.00      0.80        20\n",
      "       eight       0.81      0.85      0.83        20\n",
      "        five       0.94      0.80      0.86        20\n",
      "        four       0.72      0.90      0.80        20\n",
      "        jack       0.53      0.85      0.65        20\n",
      "        king       0.88      0.70      0.78        20\n",
      "        nine       0.88      0.75      0.81        20\n",
      "       queen       0.79      0.75      0.77        20\n",
      "       seven       0.89      0.80      0.84        20\n",
      "         six       0.79      0.75      0.77        20\n",
      "         ten       0.94      0.75      0.83        20\n",
      "       three       0.90      0.90      0.90        20\n",
      "         two       0.93      0.70      0.80        20\n",
      "         xxx       0.00      0.00      0.00         5\n",
      "\n",
      "    accuracy                           0.79       265\n",
      "   macro avg       0.76      0.75      0.75       265\n",
      "weighted avg       0.80      0.79      0.79       265\n",
      "\n"
     ]
    },
    {
     "name": "stderr",
     "output_type": "stream",
     "text": [
      "C:\\Users\\alexb\\anaconda3\\lib\\site-packages\\sklearn\\metrics\\_classification.py:1318: UndefinedMetricWarning: Precision and F-score are ill-defined and being set to 0.0 in labels with no predicted samples. Use `zero_division` parameter to control this behavior.\n",
      "  _warn_prf(average, modifier, msg_start, len(result))\n",
      "C:\\Users\\alexb\\anaconda3\\lib\\site-packages\\sklearn\\metrics\\_classification.py:1318: UndefinedMetricWarning: Precision and F-score are ill-defined and being set to 0.0 in labels with no predicted samples. Use `zero_division` parameter to control this behavior.\n",
      "  _warn_prf(average, modifier, msg_start, len(result))\n",
      "C:\\Users\\alexb\\anaconda3\\lib\\site-packages\\sklearn\\metrics\\_classification.py:1318: UndefinedMetricWarning: Precision and F-score are ill-defined and being set to 0.0 in labels with no predicted samples. Use `zero_division` parameter to control this behavior.\n",
      "  _warn_prf(average, modifier, msg_start, len(result))\n"
     ]
    }
   ],
   "source": [
    "#Try a Random Forest Classifier\n",
    "\n",
    "rfc = RandomForestClassifier()\n",
    "rfc.fit(X_train,y_train)\n",
    "pred = rfc.predict(X_test)\n",
    "\n",
    "print('Random Forest Classifier Results:\\n')\n",
    "print(confusion_matrix(y_test, pred))\n",
    "print(classification_report(y_test, pred))"
   ]
  },
  {
   "cell_type": "code",
   "execution_count": 63,
   "metadata": {
    "scrolled": true
   },
   "outputs": [
    {
     "name": "stdout",
     "output_type": "stream",
     "text": [
      "Random Forest Classifier Results on validation data:\n",
      "\n",
      "[[16  0  2  0  0  1  0  0  0  0  1  0  0  0]\n",
      " [ 0 17  0  0  1  0  0  0  1  1  0  0  0  0]\n",
      " [ 0  0 20  0  0  0  0  0  0  0  0  0  0  0]\n",
      " [ 2  0  0 18  0  0  0  0  0  0  0  0  0  0]\n",
      " [ 0  0  0  0 17  1  0  1  0  1  0  0  0  0]\n",
      " [ 0  0  0  0  5 13  0  2  0  0  0  0  0  0]\n",
      " [ 0  0  0  1  0  0 19  0  0  0  0  0  0  0]\n",
      " [ 0  0  0  0  4  0  0 16  0  0  0  0  0  0]\n",
      " [ 1  0  1  1  1  0  0  0 15  1  0  0  0  0]\n",
      " [ 0  0  0  1  0  0  0  0  1 17  0  1  0  0]\n",
      " [ 0  0  1  1  0  1  0  1  0  1 15  0  0  0]\n",
      " [ 1  0  0  0  0  0  0  0  0  0  0 19  0  0]\n",
      " [ 1  0  0  1  1  0  0  1  0  0  0  0 16  0]\n",
      " [ 0  0  0  0  0  3  0  0  1  0  0  0  0  1]]\n",
      "              precision    recall  f1-score   support\n",
      "\n",
      "         ace       0.76      0.80      0.78        20\n",
      "       eight       1.00      0.85      0.92        20\n",
      "        five       0.83      1.00      0.91        20\n",
      "        four       0.78      0.90      0.84        20\n",
      "        jack       0.59      0.85      0.69        20\n",
      "        king       0.68      0.65      0.67        20\n",
      "        nine       1.00      0.95      0.97        20\n",
      "       queen       0.76      0.80      0.78        20\n",
      "       seven       0.83      0.75      0.79        20\n",
      "         six       0.81      0.85      0.83        20\n",
      "         ten       0.94      0.75      0.83        20\n",
      "       three       0.95      0.95      0.95        20\n",
      "         two       1.00      0.80      0.89        20\n",
      "         xxx       1.00      0.20      0.33         5\n",
      "\n",
      "    accuracy                           0.83       265\n",
      "   macro avg       0.85      0.79      0.80       265\n",
      "weighted avg       0.84      0.83      0.83       265\n",
      "\n"
     ]
    }
   ],
   "source": [
    "# Random Forest was the best classifier\n",
    "# Let's look at the performance on the validation data set\n",
    "\n",
    "print('Random Forest Classifier Results on validation data:\\n')\n",
    "\n",
    "pred = rfc.predict(X_valid)\n",
    "print(confusion_matrix(y_valid, pred))\n",
    "print(classification_report(y_valid, pred))"
   ]
  }
 ],
 "metadata": {
  "kernelspec": {
   "display_name": "Python 3 (ipykernel)",
   "language": "python",
   "name": "python3"
  },
  "language_info": {
   "codemirror_mode": {
    "name": "ipython",
    "version": 3
   },
   "file_extension": ".py",
   "mimetype": "text/x-python",
   "name": "python",
   "nbconvert_exporter": "python",
   "pygments_lexer": "ipython3",
   "version": "3.9.12"
  },
  "vscode": {
   "interpreter": {
    "hash": "4911d4ffa675984bc85ade23f66774bee4193204d3bdeeb5aa337e5053a61eb0"
   }
  }
 },
 "nbformat": 4,
 "nbformat_minor": 2
}
